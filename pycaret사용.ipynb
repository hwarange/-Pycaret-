{
  "nbformat": 4,
  "nbformat_minor": 0,
  "metadata": {
    "colab": {
      "provenance": [],
      "gpuType": "T4"
    },
    "kernelspec": {
      "name": "python3",
      "display_name": "Python 3"
    },
    "language_info": {
      "name": "python"
    },
    "accelerator": "GPU"
  },
  "cells": [
    {
      "cell_type": "code",
      "execution_count": null,
      "metadata": {
        "id": "aS1QfjlxvUQw"
      },
      "outputs": [],
      "source": [
        "!pip install pycaret"
      ]
    },
    {
      "cell_type": "code",
      "source": [
        "!pip install --upgrade pycaret"
      ],
      "metadata": {
        "id": "eq_ydEBNwfp7"
      },
      "execution_count": null,
      "outputs": []
    },
    {
      "cell_type": "code",
      "source": [
        "from pycaret.regression import *"
      ],
      "metadata": {
        "id": "CTbwG336wrIw"
      },
      "execution_count": null,
      "outputs": []
    },
    {
      "cell_type": "code",
      "source": [
        "from google.colab import drive\n",
        "drive.mount('/content/drive')"
      ],
      "metadata": {
        "id": "hS8cOYOzxbpA"
      },
      "execution_count": null,
      "outputs": []
    },
    {
      "cell_type": "code",
      "source": [
        "import pandas as pd\n",
        "import numpy as np\n",
        "import matplotlib.pyplot as plt"
      ],
      "metadata": {
        "id": "Oxsr6IZRxzCu"
      },
      "execution_count": null,
      "outputs": []
    },
    {
      "cell_type": "code",
      "source": [
        "result = pd.read_csv(\"/content/drive/MyDrive/비즈니스 머신러닝/final_project_hotelReview.csv\", encoding=\"CP949\")\n",
        "\n",
        "result = result.drop(columns = \"Unnamed: 0\")\n",
        "result = result.drop(columns = \"hotel_url\")\n",
        "result = result.drop(columns = \"name\")"
      ],
      "metadata": {
        "id": "X-mxFKYUx0_O"
      },
      "execution_count": null,
      "outputs": []
    },
    {
      "cell_type": "code",
      "source": [
        "result.loc[result['class'] == \"no stars\", 'class'] = 0\n",
        "result = result.astype({\"class\":int})\n",
        "result[\"class\"]"
      ],
      "metadata": {
        "id": "39L-HdQzx2fd"
      },
      "execution_count": null,
      "outputs": []
    },
    {
      "cell_type": "code",
      "source": [
        "result = result.dropna()"
      ],
      "metadata": {
        "id": "rgYkQ-wSx3fY"
      },
      "execution_count": null,
      "outputs": []
    },
    {
      "cell_type": "code",
      "source": [
        "model = setup(data = result, target = \"bubble_rating\",session_id=123, train_size=0.8,use_gpu=True)"
      ],
      "metadata": {
        "id": "5kUmDtciyx5v"
      },
      "execution_count": null,
      "outputs": []
    },
    {
      "cell_type": "code",
      "source": [
        "compare_models()"
      ],
      "metadata": {
        "id": "y8ulejZb0qfi"
      },
      "execution_count": null,
      "outputs": []
    },
    {
      "cell_type": "code",
      "source": [
        "gbr = create_model('gbr')"
      ],
      "metadata": {
        "id": "rv3Goqdf2Oa1"
      },
      "execution_count": null,
      "outputs": []
    },
    {
      "cell_type": "code",
      "source": [
        "gbr_tune = tune_model(gbr)"
      ],
      "metadata": {
        "id": "H3sEUC5v4l7N"
      },
      "execution_count": null,
      "outputs": []
    },
    {
      "cell_type": "code",
      "source": [
        "final_model = finalize_model(gbr)\n",
        "prediction = predict_model(final_model)"
      ],
      "metadata": {
        "id": "sE2nMY_64DPy"
      },
      "execution_count": null,
      "outputs": []
    },
    {
      "cell_type": "code",
      "source": [
        "rf = create_model('rf')"
      ],
      "metadata": {
        "id": "fVqUIdhL5jMV"
      },
      "execution_count": null,
      "outputs": []
    },
    {
      "cell_type": "code",
      "source": [
        "rf_tune = tune_model(rf)"
      ],
      "metadata": {
        "id": "89SqMxA15uab"
      },
      "execution_count": null,
      "outputs": []
    },
    {
      "cell_type": "code",
      "source": [
        "blend = blend_models(estimator_list= [gbr, rf])"
      ],
      "metadata": {
        "id": "G8LIC8qQfo9Y"
      },
      "execution_count": null,
      "outputs": []
    },
    {
      "cell_type": "code",
      "source": [
        "blend_tune = tune_model(blend)"
      ],
      "metadata": {
        "id": "4p0nG2ct6jcF"
      },
      "execution_count": null,
      "outputs": []
    },
    {
      "cell_type": "code",
      "source": [
        "final_model = finalize_model(blend_tune)\n",
        "prediction = predict_model(final_model)"
      ],
      "metadata": {
        "id": "F9tPsJAqC5md"
      },
      "execution_count": null,
      "outputs": []
    },
    {
      "cell_type": "code",
      "source": [
        "et = create_model('et')\n",
        "br = create_model('br')\n",
        "omp = create_model('omp')"
      ],
      "metadata": {
        "id": "uFWhAMzq50YT"
      },
      "execution_count": null,
      "outputs": []
    },
    {
      "cell_type": "code",
      "source": [
        "blend2 = blend_models(estimator_list= [gbr, rf, et, br, omp])"
      ],
      "metadata": {
        "id": "_LGtrTob5-sK"
      },
      "execution_count": null,
      "outputs": []
    },
    {
      "cell_type": "code",
      "source": [
        "blend2_tune = tune_model(blend2)"
      ],
      "metadata": {
        "id": "TRAxyRds8isA"
      },
      "execution_count": null,
      "outputs": []
    },
    {
      "cell_type": "code",
      "source": [
        "final_model = finalize_model(blend2_tune)\n",
        "prediction = predict_model(final_model)"
      ],
      "metadata": {
        "id": "uCj-WlUg_Ug_"
      },
      "execution_count": null,
      "outputs": []
    },
    {
      "cell_type": "code",
      "source": [
        "xgboost = create_model('xgboost')"
      ],
      "metadata": {
        "id": "eI0K1fTmCJiy"
      },
      "execution_count": null,
      "outputs": []
    },
    {
      "cell_type": "code",
      "source": [
        "blend2 = blend_models(estimator_list= [gbr, rf, et, br, omp, xgboost])"
      ],
      "metadata": {
        "id": "I11bk5JCCOgZ"
      },
      "execution_count": null,
      "outputs": []
    },
    {
      "cell_type": "code",
      "source": [
        "blend2_tune = tune_model(blend2)"
      ],
      "metadata": {
        "id": "1IcCtry_DVJT"
      },
      "execution_count": null,
      "outputs": []
    },
    {
      "cell_type": "code",
      "source": [
        "final_model = finalize_model(blend2_tune)\n",
        "prediction = predict_model(final_model)"
      ],
      "metadata": {
        "id": "DIr3EAjfDXVM"
      },
      "execution_count": null,
      "outputs": []
    }
  ]
}